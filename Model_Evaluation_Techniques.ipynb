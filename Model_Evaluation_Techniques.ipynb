{
  "nbformat": 4,
  "nbformat_minor": 0,
  "metadata": {
    "colab": {
      "provenance": []
    },
    "kernelspec": {
      "name": "python3",
      "display_name": "Python 3"
    },
    "language_info": {
      "name": "python"
    }
  },
  "cells": [
    {
      "cell_type": "markdown",
      "source": [
        "# Decoding ML 2.0 Day 3\n",
        "**Click on `Copy to Drive`, to copy this colab notebook to your drive.**"
      ],
      "metadata": {
        "id": "ca1PP6KJ5aRs"
      }
    },
    {
      "cell_type": "markdown",
      "source": [
        "## Model evaluation metrics for a simple Linear Regression model."
      ],
      "metadata": {
        "id": "M5u012UOWSMn"
      }
    },
    {
      "cell_type": "code",
      "source": [
        "# importing warning library\n",
        "import warnings\n",
        "warnings.simplefilter('ignore') # to ignore warningsa\n",
        "\n",
        "# importing required libraries\n",
        "import pandas as pd\n",
        "import math\n",
        "import matplotlib.pyplot as plt\n",
        "import seaborn as sns\n",
        "from sklearn import datasets\n",
        "from sklearn.model_selection import train_test_split\n",
        "from sklearn.linear_model import LinearRegression\n",
        "from sklearn.metrics import mean_squared_error, mean_absolute_error, r2_score\n",
        "from sklearn.neighbors import KNeighborsClassifier\n",
        "from sklearn.metrics import confusion_matrix, accuracy_score, ConfusionMatrixDisplay, precision_score, recall_score, f1_score\n",
        "from sklearn.model_selection import cross_val_score\n",
        "\n",
        "\n",
        "# reading data\n",
        "'''Linear Regression'''\n",
        "df = pd.read_csv('https://cf-courses-data.s3.us.cloud-object-storage.appdomain.cloud/IBMDeveloperSkillsNetwork-DA0101EN-SkillsNetwork/labs/FinalModule_Coursera/data/kc_house_data_NaN.csv')\n",
        "\n",
        "'''KNN'''\n",
        "iris = datasets.load_iris()\n",
        "df_iris = pd.DataFrame(data=iris.data, columns=iris.feature_names)\n",
        "df_iris[\"target\"] = iris.target  # 0 setosa, 1 versicolor and 2 for virginica\n",
        "\n",
        "# For Linear Regression\n",
        "X = df[[\"sqft_living15\"]]\n",
        "y = df[\"price\"]\n",
        "\n",
        "# For KNN\n",
        "X_iris = df_iris[[\"petal width (cm)\"]]\n",
        "y_iris = df_iris[\"target\"]\n",
        "\n",
        "# Split the data into training and testing sets\n",
        "X_train, X_test, y_train, y_test = train_test_split(X, y, test_size=0.2, random_state=0)\n",
        "X_train_iris, X_test_iris, y_train_iris, y_test_iris = train_test_split(X_iris, y_iris, test_size=0.2, random_state=0)\n",
        "\n",
        "'''Linear Regression'''\n",
        "# Train the model\n",
        "regressor = LinearRegression()\n",
        "regressor.fit(X_train, y_train)\n",
        "\n",
        "# Predict the values\n",
        "y_pred = regressor.predict(X_test)\n",
        "\n",
        "'''KNN'''\n",
        "# Instantiate learning model (k = 3)\n",
        "classifier = KNeighborsClassifier(n_neighbors=3)\n",
        "\n",
        "# Fitting the model\n",
        "classifier.fit(X_train_iris, y_train_iris)\n",
        "\n",
        "# Predicting the Test set results\n",
        "y_pred_iris = classifier.predict(X_test_iris)"
      ],
      "metadata": {
        "id": "GtV-6clUpCXF"
      },
      "execution_count": null,
      "outputs": []
    },
    {
      "cell_type": "markdown",
      "source": [
        "### What is an error?\n",
        "The error of an observation is the deviation of the observed value from the true value of a quantity of interest. \n",
        "### What is a residual?\n",
        "The residual is the difference between the observed value and the estimated value of the quantity of interest."
      ],
      "metadata": {
        "id": "KoHlMnq6boUs"
      }
    },
    {
      "cell_type": "markdown",
      "source": [
        "###Mean Squared Error (MSE) \n",
        "The mean squared error is the average of the squared differences between the actual and predicted values.  \n",
        "It is calculated as  \n",
        "$\\frac{1}{n}\\sum_{i=1}^{n}(y_i-\\hat{y_i})^2$"
      ],
      "metadata": {
        "id": "U38LqRgOUeAC"
      }
    },
    {
      "cell_type": "code",
      "execution_count": null,
      "metadata": {
        "colab": {
          "base_uri": "https://localhost:8080/"
        },
        "id": "f-n2aPqVUUCn",
        "outputId": "6a60d83f-7dce-490d-c371-c542f424ab93"
      },
      "outputs": [
        {
          "output_type": "stream",
          "name": "stdout",
          "text": [
            "Mean Squared error = 77112590873.13\n"
          ]
        }
      ],
      "source": [
        "mse = mean_squared_error(y_test, y_pred)\n",
        "print(f\"Mean Squared error = {mse:.2f}\")"
      ]
    },
    {
      "cell_type": "markdown",
      "source": [
        "### Root Mean Squared Error (RMSE)\n",
        "The root mean squared error is the square root of the average of the squared differences between the actual and predicted values.  \n",
        "It is calculated as  \n",
        "$\\sqrt{\\frac{1}{n}\\sum_{i=1}^{n}(y_i-\\hat{y_i})^2}$."
      ],
      "metadata": {
        "id": "ZkwemJWnZECs"
      }
    },
    {
      "cell_type": "code",
      "source": [
        "rmse = math.sqrt(mse)\n",
        "print(f\"Root Mean Squared error = {rmse:.2f}\")"
      ],
      "metadata": {
        "colab": {
          "base_uri": "https://localhost:8080/"
        },
        "id": "FezhpLu5VjvH",
        "outputId": "adff0cea-3ede-430b-8217-bd1d820997c9"
      },
      "execution_count": null,
      "outputs": [
        {
          "output_type": "stream",
          "name": "stdout",
          "text": [
            "Root Mean Squared error = 277691.54\n"
          ]
        }
      ]
    },
    {
      "cell_type": "markdown",
      "source": [
        "### Mean Absolute Error (MAE) \n",
        "The mean absolute error is the average of the absolute differences between the actual and predicted values. \n",
        "It is calculated as  \n",
        "$\\frac{1}{n}\\sum_{i=1}^{n}|y_i-\\hat{y_i}|$"
      ],
      "metadata": {
        "id": "ogJm4MU2Zsgc"
      }
    },
    {
      "cell_type": "code",
      "source": [
        "mae = mean_absolute_error(y_test, y_pred)\n",
        "print(f\"Mean Absolute error = {mae:.2f}\")"
      ],
      "metadata": {
        "colab": {
          "base_uri": "https://localhost:8080/"
        },
        "id": "XfkCF-ZGZ-b4",
        "outputId": "94141b27-35c9-4066-9dbf-c81c2b4fbf7c"
      },
      "execution_count": null,
      "outputs": [
        {
          "output_type": "stream",
          "name": "stdout",
          "text": [
            "Mean Absolute error = 182206.10\n"
          ]
        }
      ]
    },
    {
      "cell_type": "markdown",
      "source": [
        "### R-squared (R2)\n",
        "R-squared is a statistical measure that represents the proportion of the variance for a dependent variable that’s explained by an independent variable or variables in a regression model. The closer the value of R-squared to 1, the better is the model fitted.  \n",
        "It is calculated as  \n",
        "$R^2=1-\\frac{\\sum_{i=1}^{n}(y_i-\\hat{y_i})^2}{\\sum_{i=1}^{n}(y_i-\\bar{y})^2}$"
      ],
      "metadata": {
        "id": "XOAV7u5yaL-X"
      }
    },
    {
      "cell_type": "code",
      "source": [
        "r2 = r2_score(y_test, y_pred)\n",
        "print(f\"R2 score = {r2:.2f}\")"
      ],
      "metadata": {
        "colab": {
          "base_uri": "https://localhost:8080/"
        },
        "id": "yOh4E8xmabe9",
        "outputId": "06087bbf-69bb-4e81-95e9-3e1e1c799dea"
      },
      "execution_count": null,
      "outputs": [
        {
          "output_type": "stream",
          "name": "stdout",
          "text": [
            "R2 score = 0.35\n"
          ]
        }
      ]
    },
    {
      "cell_type": "markdown",
      "source": [
        "### Other techniques/metrics"
      ],
      "metadata": {
        "id": "EMRH_jDc8uGv"
      }
    },
    {
      "cell_type": "markdown",
      "source": [
        "**By visualizing residues**"
      ],
      "metadata": {
        "id": "T6DkHSt32Fjy"
      }
    },
    {
      "cell_type": "code",
      "source": [
        "# Predicting values\n",
        "regressor1 = LinearRegression()\n",
        "regressor1.fit(X, y)\n",
        "y_pred2 = regressor1.predict(X)\n",
        "\n",
        "sns.residplot(x=y_pred2, y=y)\n",
        "plt.xlabel(\"Residual\")\n",
        "plt.ylabel(\"Salary\")\n",
        "plt.title(\"Residual plot\")\n",
        "plt.show()"
      ],
      "metadata": {
        "colab": {
          "base_uri": "https://localhost:8080/",
          "height": 295
        },
        "id": "SVC7rGDr9BbH",
        "outputId": "21ba7f2d-3e0b-4a5c-d30e-a0b07a3abe97"
      },
      "execution_count": null,
      "outputs": [
        {
          "output_type": "display_data",
          "data": {
            "text/plain": [
              "<Figure size 432x288 with 1 Axes>"
            ],
            "image/png": "[encoded data removed]"
          },
          "metadata": {
            "needs_background": "light"
          }
        }
      ]
    },
    {
      "cell_type": "markdown",
      "source": [
        "**By Cross Validation**"
      ],
      "metadata": {
        "id": "3yIzV15z2MKT"
      }
    },
    {
      "cell_type": "code",
      "source": [
        "scores = cross_val_score(regressor, X, y, cv=5)\n",
        "print(scores)"
      ],
      "metadata": {
        "colab": {
          "base_uri": "https://localhost:8080/"
        },
        "id": "Yk-0EtxU2PM1",
        "outputId": "4ea242ae-9320-49a4-bb95-020462b2b271"
      },
      "execution_count": null,
      "outputs": [
        {
          "output_type": "stream",
          "name": "stdout",
          "text": [
            "[0.35067142 0.32752725 0.37508287 0.38919363 0.26565068]\n"
          ]
        }
      ]
    },
    {
      "cell_type": "markdown",
      "source": [
        "## Evaluating KNN"
      ],
      "metadata": {
        "id": "56BAdUp43exN"
      }
    },
    {
      "cell_type": "markdown",
      "source": [
        "### Confusion Matrix"
      ],
      "metadata": {
        "id": "zk9Ed40qJmc1"
      }
    },
    {
      "cell_type": "code",
      "source": [
        "# Computing confusion matrix\n",
        "cm = confusion_matrix(y_test_iris, y_pred_iris)\n",
        "\n",
        "# Plotting Confusion Matrix\n",
        "plot = ConfusionMatrixDisplay(confusion_matrix=cm)\n",
        "plot.plot()"
      ],
      "metadata": {
        "colab": {
          "base_uri": "https://localhost:8080/",
          "height": 296
        },
        "id": "kGGZ32B53ijp",
        "outputId": "8260b7c1-fa53-49bf-86f2-6164352e8f39"
      },
      "execution_count": null,
      "outputs": [
        {
          "output_type": "execute_result",
          "data": {
            "text/plain": [
              "<sklearn.metrics._plot.confusion_matrix.ConfusionMatrixDisplay at 0x7fd6d5b61550>"
            ]
          },
          "metadata": {},
          "execution_count": 8
        },
        {
          "output_type": "display_data",
          "data": {
            "text/plain": [
              "<Figure size 432x288 with 2 Axes>"
            ],
            "image/png": "[encoded data removed]"
          },
          "metadata": {
            "needs_background": "light"
          }
        }
      ]
    },
    {
      "cell_type": "markdown",
      "source": [
        "### Accuracy\n",
        "Ratio of correct predictions to the total number of predictions.  \n",
        "$Accuracy = \\frac{TP + TN}{TP+FP+TN+FN}$"
      ],
      "metadata": {
        "id": "evVoFBLh4Wb-"
      }
    },
    {
      "cell_type": "code",
      "source": [
        "print(f\"Accuracy = {accuracy_score(y_test_iris, y_pred_iris):.2f}\")"
      ],
      "metadata": {
        "id": "3kjLwxGhEvyp",
        "colab": {
          "base_uri": "https://localhost:8080/"
        },
        "outputId": "3712617c-5148-4de0-bcd0-e752cfb45c1c"
      },
      "execution_count": null,
      "outputs": [
        {
          "output_type": "stream",
          "name": "stdout",
          "text": [
            "Accuracy = 0.97\n"
          ]
        }
      ]
    },
    {
      "cell_type": "markdown",
      "source": [
        "### Precision\n",
        "Ratio of True Positives (TP) to the sum of True Positives (TP) and False Positives (FP).  \n",
        "$ Precision = \\frac{TP}{TP+FP}$"
      ],
      "metadata": {
        "id": "dk_fRvbtMlM5"
      }
    },
    {
      "cell_type": "code",
      "source": [
        "print(f\"Precision = {precision_score(y_test_iris, y_pred_iris, average = None)}\")"
      ],
      "metadata": {
        "colab": {
          "base_uri": "https://localhost:8080/"
        },
        "id": "ibj2QizgNuzb",
        "outputId": "681f3874-14aa-42fd-c747-c3a0d75f4b3e"
      },
      "execution_count": null,
      "outputs": [
        {
          "output_type": "stream",
          "name": "stdout",
          "text": [
            "Precision = [1.         0.92857143 1.        ]\n"
          ]
        }
      ]
    },
    {
      "cell_type": "markdown",
      "source": [
        "### Recall\n",
        "Ratio of True Positives (TP) to the sum of True Positives (TP) and False Negatives (FN).  \n",
        "$Recall = \\frac{TP}{TP+FN}$"
      ],
      "metadata": {
        "id": "CTAWbXOmN6xb"
      }
    },
    {
      "cell_type": "code",
      "source": [
        "print(f\"Recall = {recall_score(y_test_iris, y_pred_iris, average = None)}\")"
      ],
      "metadata": {
        "colab": {
          "base_uri": "https://localhost:8080/"
        },
        "id": "fwhClkR9Oanc",
        "outputId": "1d957ac2-d1c1-4b19-ac67-e48d5bc21342"
      },
      "execution_count": null,
      "outputs": [
        {
          "output_type": "stream",
          "name": "stdout",
          "text": [
            "Recall = [1.         1.         0.83333333]\n"
          ]
        }
      ]
    },
    {
      "cell_type": "markdown",
      "source": [
        "### F1 Score\n",
        "$F_1 = \\frac{2 \\times \\text{precision} \\times \\text{recall}}{\\text{precision} + \\text{recall}}$"
      ],
      "metadata": {
        "id": "vjpvnNo8bGT6"
      }
    },
    {
      "cell_type": "code",
      "source": [
        "print(f\"F1 Score = {f1_score(y_test_iris, y_pred_iris, average = None)}\")"
      ],
      "metadata": {
        "colab": {
          "base_uri": "https://localhost:8080/"
        },
        "id": "r6LY0TU2cgkm",
        "outputId": "aa955dd2-bb5d-45aa-db80-fe7af2540951"
      },
      "execution_count": null,
      "outputs": [
        {
          "output_type": "stream",
          "name": "stdout",
          "text": [
            "F1 Score = [1.         0.96296296 0.90909091]\n"
          ]
        }
      ]
    }
  ]
}